{
 "cells": [
  {
   "cell_type": "code",
   "execution_count": 1,
   "id": "83b5b4a3",
   "metadata": {},
   "outputs": [],
   "source": [
    "import numpy as np\n",
    "from glob import glob\n",
    "import matplotlib.pyplot as plt\n",
    "import tensorflow as tf\n",
    "from keras.layers import Input, Lambda, Dense, Flatten\n",
    "from keras.models import Model\n",
    "from keras.applications.resnet50 import ResNet50\n",
    "from keras.applications.resnet50 import preprocess_input\n",
    "from keras.preprocessing import image\n",
    "from keras.preprocessing.image import ImageDataGenerator,load_img\n",
    "from keras.models import Sequential\n",
    "\n"
   ]
  },
  {
   "cell_type": "code",
   "execution_count": 2,
   "id": "f14d5aa4",
   "metadata": {},
   "outputs": [
    {
     "data": {
      "text/plain": [
       "'2.14.0'"
      ]
     },
     "execution_count": 2,
     "metadata": {},
     "output_type": "execute_result"
    }
   ],
   "source": [
    "tf.__version__"
   ]
  },
  {
   "cell_type": "code",
   "execution_count": 3,
   "id": "5d3b8a53",
   "metadata": {},
   "outputs": [],
   "source": [
    "IMAGE_SIZE = [224, 224]\n",
    "\n",
    "train_path = 'Datasets/train'\n",
    "valid_path = 'Datasets/test'"
   ]
  },
  {
   "cell_type": "code",
   "execution_count": 4,
   "id": "c0ccb9aa",
   "metadata": {},
   "outputs": [
    {
     "data": {
      "text/plain": [
       "[224, 224, 3]"
      ]
     },
     "execution_count": 4,
     "metadata": {},
     "output_type": "execute_result"
    }
   ],
   "source": [
    "[224,224]+[3]"
   ]
  },
  {
   "cell_type": "code",
   "execution_count": 5,
   "id": "1f591766",
   "metadata": {},
   "outputs": [],
   "source": [
    "resnet = ResNet50(input_shape=IMAGE_SIZE + [3], weights='imagenet', include_top=False)"
   ]
  },
  {
   "cell_type": "code",
   "execution_count": 6,
   "id": "e30fcd5e",
   "metadata": {},
   "outputs": [],
   "source": [
    "for layer in resnet.layers:\n",
    "    layer.trainable = False"
   ]
  },
  {
   "cell_type": "code",
   "execution_count": 7,
   "id": "6279b892",
   "metadata": {},
   "outputs": [],
   "source": [
    "folders = glob('Datasets/train/*')"
   ]
  },
  {
   "cell_type": "code",
   "execution_count": 8,
   "id": "8075c21d",
   "metadata": {},
   "outputs": [],
   "source": [
    "x = Flatten()(resnet.output)"
   ]
  },
  {
   "cell_type": "code",
   "execution_count": 9,
   "id": "f871ab68",
   "metadata": {},
   "outputs": [],
   "source": [
    "prediction = Dense(len(folders), activation='softmax')(x)\n",
    "\n",
    "model = Model(inputs=resnet.input, outputs=prediction)\n"
   ]
  },
  {
   "cell_type": "code",
   "execution_count": 10,
   "id": "9773a455",
   "metadata": {},
   "outputs": [
    {
     "name": "stdout",
     "output_type": "stream",
     "text": [
      "Model: \"model\"\n",
      "__________________________________________________________________________________________________\n",
      " Layer (type)                Output Shape                 Param #   Connected to                  \n",
      "==================================================================================================\n",
      " input_1 (InputLayer)        [(None, 224, 224, 3)]        0         []                            \n",
      "                                                                                                  \n",
      " conv1_pad (ZeroPadding2D)   (None, 230, 230, 3)          0         ['input_1[0][0]']             \n",
      "                                                                                                  \n",
      " conv1_conv (Conv2D)         (None, 112, 112, 64)         9472      ['conv1_pad[0][0]']           \n",
      "                                                                                                  \n",
      " conv1_bn (BatchNormalizati  (None, 112, 112, 64)         256       ['conv1_conv[0][0]']          \n",
      " on)                                                                                              \n",
      "                                                                                                  \n",
      " conv1_relu (Activation)     (None, 112, 112, 64)         0         ['conv1_bn[0][0]']            \n",
      "                                                                                                  \n",
      " pool1_pad (ZeroPadding2D)   (None, 114, 114, 64)         0         ['conv1_relu[0][0]']          \n",
      "                                                                                                  \n",
      " pool1_pool (MaxPooling2D)   (None, 56, 56, 64)           0         ['pool1_pad[0][0]']           \n",
      "                                                                                                  \n",
      " conv2_block1_1_conv (Conv2  (None, 56, 56, 64)           4160      ['pool1_pool[0][0]']          \n",
      " D)                                                                                               \n",
      "                                                                                                  \n",
      " conv2_block1_1_bn (BatchNo  (None, 56, 56, 64)           256       ['conv2_block1_1_conv[0][0]'] \n",
      " rmalization)                                                                                     \n",
      "                                                                                                  \n",
      " conv2_block1_1_relu (Activ  (None, 56, 56, 64)           0         ['conv2_block1_1_bn[0][0]']   \n",
      " ation)                                                                                           \n",
      "                                                                                                  \n",
      " conv2_block1_2_conv (Conv2  (None, 56, 56, 64)           36928     ['conv2_block1_1_relu[0][0]'] \n",
      " D)                                                                                               \n",
      "                                                                                                  \n",
      " conv2_block1_2_bn (BatchNo  (None, 56, 56, 64)           256       ['conv2_block1_2_conv[0][0]'] \n",
      " rmalization)                                                                                     \n",
      "                                                                                                  \n",
      " conv2_block1_2_relu (Activ  (None, 56, 56, 64)           0         ['conv2_block1_2_bn[0][0]']   \n",
      " ation)                                                                                           \n",
      "                                                                                                  \n",
      " conv2_block1_0_conv (Conv2  (None, 56, 56, 256)          16640     ['pool1_pool[0][0]']          \n",
      " D)                                                                                               \n",
      "                                                                                                  \n",
      " conv2_block1_3_conv (Conv2  (None, 56, 56, 256)          16640     ['conv2_block1_2_relu[0][0]'] \n",
      " D)                                                                                               \n",
      "                                                                                                  \n",
      " conv2_block1_0_bn (BatchNo  (None, 56, 56, 256)          1024      ['conv2_block1_0_conv[0][0]'] \n",
      " rmalization)                                                                                     \n",
      "                                                                                                  \n",
      " conv2_block1_3_bn (BatchNo  (None, 56, 56, 256)          1024      ['conv2_block1_3_conv[0][0]'] \n",
      " rmalization)                                                                                     \n",
      "                                                                                                  \n",
      " conv2_block1_add (Add)      (None, 56, 56, 256)          0         ['conv2_block1_0_bn[0][0]',   \n",
      "                                                                     'conv2_block1_3_bn[0][0]']   \n",
      "                                                                                                  \n",
      " conv2_block1_out (Activati  (None, 56, 56, 256)          0         ['conv2_block1_add[0][0]']    \n",
      " on)                                                                                              \n",
      "                                                                                                  \n",
      " conv2_block2_1_conv (Conv2  (None, 56, 56, 64)           16448     ['conv2_block1_out[0][0]']    \n",
      " D)                                                                                               \n",
      "                                                                                                  \n",
      " conv2_block2_1_bn (BatchNo  (None, 56, 56, 64)           256       ['conv2_block2_1_conv[0][0]'] \n",
      " rmalization)                                                                                     \n",
      "                                                                                                  \n",
      " conv2_block2_1_relu (Activ  (None, 56, 56, 64)           0         ['conv2_block2_1_bn[0][0]']   \n",
      " ation)                                                                                           \n",
      "                                                                                                  \n",
      " conv2_block2_2_conv (Conv2  (None, 56, 56, 64)           36928     ['conv2_block2_1_relu[0][0]'] \n",
      " D)                                                                                               \n",
      "                                                                                                  \n",
      " conv2_block2_2_bn (BatchNo  (None, 56, 56, 64)           256       ['conv2_block2_2_conv[0][0]'] \n",
      " rmalization)                                                                                     \n",
      "                                                                                                  \n",
      " conv2_block2_2_relu (Activ  (None, 56, 56, 64)           0         ['conv2_block2_2_bn[0][0]']   \n",
      " ation)                                                                                           \n",
      "                                                                                                  \n",
      " conv2_block2_3_conv (Conv2  (None, 56, 56, 256)          16640     ['conv2_block2_2_relu[0][0]'] \n",
      " D)                                                                                               \n",
      "                                                                                                  \n",
      " conv2_block2_3_bn (BatchNo  (None, 56, 56, 256)          1024      ['conv2_block2_3_conv[0][0]'] \n",
      " rmalization)                                                                                     \n",
      "                                                                                                  \n",
      " conv2_block2_add (Add)      (None, 56, 56, 256)          0         ['conv2_block1_out[0][0]',    \n",
      "                                                                     'conv2_block2_3_bn[0][0]']   \n",
      "                                                                                                  \n",
      " conv2_block2_out (Activati  (None, 56, 56, 256)          0         ['conv2_block2_add[0][0]']    \n",
      " on)                                                                                              \n"
     ]
    },
    {
     "name": "stdout",
     "output_type": "stream",
     "text": [
      "                                                                                                  \n",
      " conv2_block3_1_conv (Conv2  (None, 56, 56, 64)           16448     ['conv2_block2_out[0][0]']    \n",
      " D)                                                                                               \n",
      "                                                                                                  \n",
      " conv2_block3_1_bn (BatchNo  (None, 56, 56, 64)           256       ['conv2_block3_1_conv[0][0]'] \n",
      " rmalization)                                                                                     \n",
      "                                                                                                  \n",
      " conv2_block3_1_relu (Activ  (None, 56, 56, 64)           0         ['conv2_block3_1_bn[0][0]']   \n",
      " ation)                                                                                           \n",
      "                                                                                                  \n",
      " conv2_block3_2_conv (Conv2  (None, 56, 56, 64)           36928     ['conv2_block3_1_relu[0][0]'] \n",
      " D)                                                                                               \n",
      "                                                                                                  \n",
      " conv2_block3_2_bn (BatchNo  (None, 56, 56, 64)           256       ['conv2_block3_2_conv[0][0]'] \n",
      " rmalization)                                                                                     \n",
      "                                                                                                  \n",
      " conv2_block3_2_relu (Activ  (None, 56, 56, 64)           0         ['conv2_block3_2_bn[0][0]']   \n",
      " ation)                                                                                           \n",
      "                                                                                                  \n",
      " conv2_block3_3_conv (Conv2  (None, 56, 56, 256)          16640     ['conv2_block3_2_relu[0][0]'] \n",
      " D)                                                                                               \n",
      "                                                                                                  \n",
      " conv2_block3_3_bn (BatchNo  (None, 56, 56, 256)          1024      ['conv2_block3_3_conv[0][0]'] \n",
      " rmalization)                                                                                     \n",
      "                                                                                                  \n",
      " conv2_block3_add (Add)      (None, 56, 56, 256)          0         ['conv2_block2_out[0][0]',    \n",
      "                                                                     'conv2_block3_3_bn[0][0]']   \n",
      "                                                                                                  \n",
      " conv2_block3_out (Activati  (None, 56, 56, 256)          0         ['conv2_block3_add[0][0]']    \n",
      " on)                                                                                              \n",
      "                                                                                                  \n",
      " conv3_block1_1_conv (Conv2  (None, 28, 28, 128)          32896     ['conv2_block3_out[0][0]']    \n",
      " D)                                                                                               \n",
      "                                                                                                  \n",
      " conv3_block1_1_bn (BatchNo  (None, 28, 28, 128)          512       ['conv3_block1_1_conv[0][0]'] \n",
      " rmalization)                                                                                     \n",
      "                                                                                                  \n",
      " conv3_block1_1_relu (Activ  (None, 28, 28, 128)          0         ['conv3_block1_1_bn[0][0]']   \n",
      " ation)                                                                                           \n",
      "                                                                                                  \n",
      " conv3_block1_2_conv (Conv2  (None, 28, 28, 128)          147584    ['conv3_block1_1_relu[0][0]'] \n",
      " D)                                                                                               \n",
      "                                                                                                  \n",
      " conv3_block1_2_bn (BatchNo  (None, 28, 28, 128)          512       ['conv3_block1_2_conv[0][0]'] \n",
      " rmalization)                                                                                     \n",
      "                                                                                                  \n",
      " conv3_block1_2_relu (Activ  (None, 28, 28, 128)          0         ['conv3_block1_2_bn[0][0]']   \n",
      " ation)                                                                                           \n",
      "                                                                                                  \n",
      " conv3_block1_0_conv (Conv2  (None, 28, 28, 512)          131584    ['conv2_block3_out[0][0]']    \n",
      " D)                                                                                               \n",
      "                                                                                                  \n",
      " conv3_block1_3_conv (Conv2  (None, 28, 28, 512)          66048     ['conv3_block1_2_relu[0][0]'] \n",
      " D)                                                                                               \n",
      "                                                                                                  \n",
      " conv3_block1_0_bn (BatchNo  (None, 28, 28, 512)          2048      ['conv3_block1_0_conv[0][0]'] \n",
      " rmalization)                                                                                     \n",
      "                                                                                                  \n",
      " conv3_block1_3_bn (BatchNo  (None, 28, 28, 512)          2048      ['conv3_block1_3_conv[0][0]'] \n",
      " rmalization)                                                                                     \n",
      "                                                                                                  \n",
      " conv3_block1_add (Add)      (None, 28, 28, 512)          0         ['conv3_block1_0_bn[0][0]',   \n",
      "                                                                     'conv3_block1_3_bn[0][0]']   \n",
      "                                                                                                  \n",
      " conv3_block1_out (Activati  (None, 28, 28, 512)          0         ['conv3_block1_add[0][0]']    \n",
      " on)                                                                                              \n",
      "                                                                                                  \n",
      " conv3_block2_1_conv (Conv2  (None, 28, 28, 128)          65664     ['conv3_block1_out[0][0]']    \n",
      " D)                                                                                               \n",
      "                                                                                                  \n",
      " conv3_block2_1_bn (BatchNo  (None, 28, 28, 128)          512       ['conv3_block2_1_conv[0][0]'] \n",
      " rmalization)                                                                                     \n",
      "                                                                                                  \n",
      " conv3_block2_1_relu (Activ  (None, 28, 28, 128)          0         ['conv3_block2_1_bn[0][0]']   \n",
      " ation)                                                                                           \n",
      "                                                                                                  \n",
      " conv3_block2_2_conv (Conv2  (None, 28, 28, 128)          147584    ['conv3_block2_1_relu[0][0]'] \n",
      " D)                                                                                               \n",
      "                                                                                                  \n",
      " conv3_block2_2_bn (BatchNo  (None, 28, 28, 128)          512       ['conv3_block2_2_conv[0][0]'] \n",
      " rmalization)                                                                                     \n",
      "                                                                                                  \n",
      " conv3_block2_2_relu (Activ  (None, 28, 28, 128)          0         ['conv3_block2_2_bn[0][0]']   \n"
     ]
    },
    {
     "name": "stdout",
     "output_type": "stream",
     "text": [
      " ation)                                                                                           \n",
      "                                                                                                  \n",
      " conv3_block2_3_conv (Conv2  (None, 28, 28, 512)          66048     ['conv3_block2_2_relu[0][0]'] \n",
      " D)                                                                                               \n",
      "                                                                                                  \n",
      " conv3_block2_3_bn (BatchNo  (None, 28, 28, 512)          2048      ['conv3_block2_3_conv[0][0]'] \n",
      " rmalization)                                                                                     \n",
      "                                                                                                  \n",
      " conv3_block2_add (Add)      (None, 28, 28, 512)          0         ['conv3_block1_out[0][0]',    \n",
      "                                                                     'conv3_block2_3_bn[0][0]']   \n",
      "                                                                                                  \n",
      " conv3_block2_out (Activati  (None, 28, 28, 512)          0         ['conv3_block2_add[0][0]']    \n",
      " on)                                                                                              \n",
      "                                                                                                  \n",
      " conv3_block3_1_conv (Conv2  (None, 28, 28, 128)          65664     ['conv3_block2_out[0][0]']    \n",
      " D)                                                                                               \n",
      "                                                                                                  \n",
      " conv3_block3_1_bn (BatchNo  (None, 28, 28, 128)          512       ['conv3_block3_1_conv[0][0]'] \n",
      " rmalization)                                                                                     \n",
      "                                                                                                  \n",
      " conv3_block3_1_relu (Activ  (None, 28, 28, 128)          0         ['conv3_block3_1_bn[0][0]']   \n",
      " ation)                                                                                           \n",
      "                                                                                                  \n",
      " conv3_block3_2_conv (Conv2  (None, 28, 28, 128)          147584    ['conv3_block3_1_relu[0][0]'] \n",
      " D)                                                                                               \n",
      "                                                                                                  \n",
      " conv3_block3_2_bn (BatchNo  (None, 28, 28, 128)          512       ['conv3_block3_2_conv[0][0]'] \n",
      " rmalization)                                                                                     \n",
      "                                                                                                  \n",
      " conv3_block3_2_relu (Activ  (None, 28, 28, 128)          0         ['conv3_block3_2_bn[0][0]']   \n",
      " ation)                                                                                           \n",
      "                                                                                                  \n",
      " conv3_block3_3_conv (Conv2  (None, 28, 28, 512)          66048     ['conv3_block3_2_relu[0][0]'] \n",
      " D)                                                                                               \n",
      "                                                                                                  \n",
      " conv3_block3_3_bn (BatchNo  (None, 28, 28, 512)          2048      ['conv3_block3_3_conv[0][0]'] \n",
      " rmalization)                                                                                     \n",
      "                                                                                                  \n",
      " conv3_block3_add (Add)      (None, 28, 28, 512)          0         ['conv3_block2_out[0][0]',    \n",
      "                                                                     'conv3_block3_3_bn[0][0]']   \n",
      "                                                                                                  \n",
      " conv3_block3_out (Activati  (None, 28, 28, 512)          0         ['conv3_block3_add[0][0]']    \n",
      " on)                                                                                              \n",
      "                                                                                                  \n",
      " conv3_block4_1_conv (Conv2  (None, 28, 28, 128)          65664     ['conv3_block3_out[0][0]']    \n",
      " D)                                                                                               \n",
      "                                                                                                  \n",
      " conv3_block4_1_bn (BatchNo  (None, 28, 28, 128)          512       ['conv3_block4_1_conv[0][0]'] \n",
      " rmalization)                                                                                     \n",
      "                                                                                                  \n",
      " conv3_block4_1_relu (Activ  (None, 28, 28, 128)          0         ['conv3_block4_1_bn[0][0]']   \n",
      " ation)                                                                                           \n",
      "                                                                                                  \n",
      " conv3_block4_2_conv (Conv2  (None, 28, 28, 128)          147584    ['conv3_block4_1_relu[0][0]'] \n",
      " D)                                                                                               \n",
      "                                                                                                  \n",
      " conv3_block4_2_bn (BatchNo  (None, 28, 28, 128)          512       ['conv3_block4_2_conv[0][0]'] \n",
      " rmalization)                                                                                     \n",
      "                                                                                                  \n",
      " conv3_block4_2_relu (Activ  (None, 28, 28, 128)          0         ['conv3_block4_2_bn[0][0]']   \n",
      " ation)                                                                                           \n",
      "                                                                                                  \n",
      " conv3_block4_3_conv (Conv2  (None, 28, 28, 512)          66048     ['conv3_block4_2_relu[0][0]'] \n",
      " D)                                                                                               \n",
      "                                                                                                  \n",
      " conv3_block4_3_bn (BatchNo  (None, 28, 28, 512)          2048      ['conv3_block4_3_conv[0][0]'] \n",
      " rmalization)                                                                                     \n",
      "                                                                                                  \n",
      " conv3_block4_add (Add)      (None, 28, 28, 512)          0         ['conv3_block3_out[0][0]',    \n",
      "                                                                     'conv3_block4_3_bn[0][0]']   \n",
      "                                                                                                  \n",
      " conv3_block4_out (Activati  (None, 28, 28, 512)          0         ['conv3_block4_add[0][0]']    \n",
      " on)                                                                                              \n",
      "                                                                                                  \n",
      " conv4_block1_1_conv (Conv2  (None, 14, 14, 256)          131328    ['conv3_block4_out[0][0]']    \n",
      " D)                                                                                               \n",
      "                                                                                                  \n",
      " conv4_block1_1_bn (BatchNo  (None, 14, 14, 256)          1024      ['conv4_block1_1_conv[0][0]'] \n",
      " rmalization)                                                                                     \n",
      "                                                                                                  \n",
      " conv4_block1_1_relu (Activ  (None, 14, 14, 256)          0         ['conv4_block1_1_bn[0][0]']   \n",
      " ation)                                                                                           \n",
      "                                                                                                  \n"
     ]
    },
    {
     "name": "stdout",
     "output_type": "stream",
     "text": [
      " conv4_block1_2_conv (Conv2  (None, 14, 14, 256)          590080    ['conv4_block1_1_relu[0][0]'] \n",
      " D)                                                                                               \n",
      "                                                                                                  \n",
      " conv4_block1_2_bn (BatchNo  (None, 14, 14, 256)          1024      ['conv4_block1_2_conv[0][0]'] \n",
      " rmalization)                                                                                     \n",
      "                                                                                                  \n",
      " conv4_block1_2_relu (Activ  (None, 14, 14, 256)          0         ['conv4_block1_2_bn[0][0]']   \n",
      " ation)                                                                                           \n",
      "                                                                                                  \n",
      " conv4_block1_0_conv (Conv2  (None, 14, 14, 1024)         525312    ['conv3_block4_out[0][0]']    \n",
      " D)                                                                                               \n",
      "                                                                                                  \n",
      " conv4_block1_3_conv (Conv2  (None, 14, 14, 1024)         263168    ['conv4_block1_2_relu[0][0]'] \n",
      " D)                                                                                               \n",
      "                                                                                                  \n",
      " conv4_block1_0_bn (BatchNo  (None, 14, 14, 1024)         4096      ['conv4_block1_0_conv[0][0]'] \n",
      " rmalization)                                                                                     \n",
      "                                                                                                  \n",
      " conv4_block1_3_bn (BatchNo  (None, 14, 14, 1024)         4096      ['conv4_block1_3_conv[0][0]'] \n",
      " rmalization)                                                                                     \n",
      "                                                                                                  \n",
      " conv4_block1_add (Add)      (None, 14, 14, 1024)         0         ['conv4_block1_0_bn[0][0]',   \n",
      "                                                                     'conv4_block1_3_bn[0][0]']   \n",
      "                                                                                                  \n",
      " conv4_block1_out (Activati  (None, 14, 14, 1024)         0         ['conv4_block1_add[0][0]']    \n",
      " on)                                                                                              \n",
      "                                                                                                  \n",
      " conv4_block2_1_conv (Conv2  (None, 14, 14, 256)          262400    ['conv4_block1_out[0][0]']    \n",
      " D)                                                                                               \n",
      "                                                                                                  \n",
      " conv4_block2_1_bn (BatchNo  (None, 14, 14, 256)          1024      ['conv4_block2_1_conv[0][0]'] \n",
      " rmalization)                                                                                     \n",
      "                                                                                                  \n",
      " conv4_block2_1_relu (Activ  (None, 14, 14, 256)          0         ['conv4_block2_1_bn[0][0]']   \n",
      " ation)                                                                                           \n",
      "                                                                                                  \n",
      " conv4_block2_2_conv (Conv2  (None, 14, 14, 256)          590080    ['conv4_block2_1_relu[0][0]'] \n",
      " D)                                                                                               \n",
      "                                                                                                  \n",
      " conv4_block2_2_bn (BatchNo  (None, 14, 14, 256)          1024      ['conv4_block2_2_conv[0][0]'] \n",
      " rmalization)                                                                                     \n",
      "                                                                                                  \n",
      " conv4_block2_2_relu (Activ  (None, 14, 14, 256)          0         ['conv4_block2_2_bn[0][0]']   \n",
      " ation)                                                                                           \n",
      "                                                                                                  \n",
      " conv4_block2_3_conv (Conv2  (None, 14, 14, 1024)         263168    ['conv4_block2_2_relu[0][0]'] \n",
      " D)                                                                                               \n",
      "                                                                                                  \n",
      " conv4_block2_3_bn (BatchNo  (None, 14, 14, 1024)         4096      ['conv4_block2_3_conv[0][0]'] \n",
      " rmalization)                                                                                     \n",
      "                                                                                                  \n",
      " conv4_block2_add (Add)      (None, 14, 14, 1024)         0         ['conv4_block1_out[0][0]',    \n",
      "                                                                     'conv4_block2_3_bn[0][0]']   \n",
      "                                                                                                  \n",
      " conv4_block2_out (Activati  (None, 14, 14, 1024)         0         ['conv4_block2_add[0][0]']    \n",
      " on)                                                                                              \n",
      "                                                                                                  \n",
      " conv4_block3_1_conv (Conv2  (None, 14, 14, 256)          262400    ['conv4_block2_out[0][0]']    \n",
      " D)                                                                                               \n",
      "                                                                                                  \n",
      " conv4_block3_1_bn (BatchNo  (None, 14, 14, 256)          1024      ['conv4_block3_1_conv[0][0]'] \n",
      " rmalization)                                                                                     \n",
      "                                                                                                  \n",
      " conv4_block3_1_relu (Activ  (None, 14, 14, 256)          0         ['conv4_block3_1_bn[0][0]']   \n",
      " ation)                                                                                           \n",
      "                                                                                                  \n",
      " conv4_block3_2_conv (Conv2  (None, 14, 14, 256)          590080    ['conv4_block3_1_relu[0][0]'] \n",
      " D)                                                                                               \n",
      "                                                                                                  \n",
      " conv4_block3_2_bn (BatchNo  (None, 14, 14, 256)          1024      ['conv4_block3_2_conv[0][0]'] \n",
      " rmalization)                                                                                     \n",
      "                                                                                                  \n",
      " conv4_block3_2_relu (Activ  (None, 14, 14, 256)          0         ['conv4_block3_2_bn[0][0]']   \n",
      " ation)                                                                                           \n",
      "                                                                                                  \n",
      " conv4_block3_3_conv (Conv2  (None, 14, 14, 1024)         263168    ['conv4_block3_2_relu[0][0]'] \n",
      " D)                                                                                               \n",
      "                                                                                                  \n",
      " conv4_block3_3_bn (BatchNo  (None, 14, 14, 1024)         4096      ['conv4_block3_3_conv[0][0]'] \n",
      " rmalization)                                                                                     \n",
      "                                                                                                  \n",
      " conv4_block3_add (Add)      (None, 14, 14, 1024)         0         ['conv4_block2_out[0][0]',    \n",
      "                                                                     'conv4_block3_3_bn[0][0]']   \n"
     ]
    },
    {
     "name": "stdout",
     "output_type": "stream",
     "text": [
      "                                                                                                  \n",
      " conv4_block3_out (Activati  (None, 14, 14, 1024)         0         ['conv4_block3_add[0][0]']    \n",
      " on)                                                                                              \n",
      "                                                                                                  \n",
      " conv4_block4_1_conv (Conv2  (None, 14, 14, 256)          262400    ['conv4_block3_out[0][0]']    \n",
      " D)                                                                                               \n",
      "                                                                                                  \n",
      " conv4_block4_1_bn (BatchNo  (None, 14, 14, 256)          1024      ['conv4_block4_1_conv[0][0]'] \n",
      " rmalization)                                                                                     \n",
      "                                                                                                  \n",
      " conv4_block4_1_relu (Activ  (None, 14, 14, 256)          0         ['conv4_block4_1_bn[0][0]']   \n",
      " ation)                                                                                           \n",
      "                                                                                                  \n",
      " conv4_block4_2_conv (Conv2  (None, 14, 14, 256)          590080    ['conv4_block4_1_relu[0][0]'] \n",
      " D)                                                                                               \n",
      "                                                                                                  \n",
      " conv4_block4_2_bn (BatchNo  (None, 14, 14, 256)          1024      ['conv4_block4_2_conv[0][0]'] \n",
      " rmalization)                                                                                     \n",
      "                                                                                                  \n",
      " conv4_block4_2_relu (Activ  (None, 14, 14, 256)          0         ['conv4_block4_2_bn[0][0]']   \n",
      " ation)                                                                                           \n",
      "                                                                                                  \n",
      " conv4_block4_3_conv (Conv2  (None, 14, 14, 1024)         263168    ['conv4_block4_2_relu[0][0]'] \n",
      " D)                                                                                               \n",
      "                                                                                                  \n",
      " conv4_block4_3_bn (BatchNo  (None, 14, 14, 1024)         4096      ['conv4_block4_3_conv[0][0]'] \n",
      " rmalization)                                                                                     \n",
      "                                                                                                  \n",
      " conv4_block4_add (Add)      (None, 14, 14, 1024)         0         ['conv4_block3_out[0][0]',    \n",
      "                                                                     'conv4_block4_3_bn[0][0]']   \n",
      "                                                                                                  \n",
      " conv4_block4_out (Activati  (None, 14, 14, 1024)         0         ['conv4_block4_add[0][0]']    \n",
      " on)                                                                                              \n",
      "                                                                                                  \n",
      " conv4_block5_1_conv (Conv2  (None, 14, 14, 256)          262400    ['conv4_block4_out[0][0]']    \n",
      " D)                                                                                               \n",
      "                                                                                                  \n",
      " conv4_block5_1_bn (BatchNo  (None, 14, 14, 256)          1024      ['conv4_block5_1_conv[0][0]'] \n",
      " rmalization)                                                                                     \n",
      "                                                                                                  \n",
      " conv4_block5_1_relu (Activ  (None, 14, 14, 256)          0         ['conv4_block5_1_bn[0][0]']   \n",
      " ation)                                                                                           \n",
      "                                                                                                  \n",
      " conv4_block5_2_conv (Conv2  (None, 14, 14, 256)          590080    ['conv4_block5_1_relu[0][0]'] \n",
      " D)                                                                                               \n",
      "                                                                                                  \n",
      " conv4_block5_2_bn (BatchNo  (None, 14, 14, 256)          1024      ['conv4_block5_2_conv[0][0]'] \n",
      " rmalization)                                                                                     \n",
      "                                                                                                  \n",
      " conv4_block5_2_relu (Activ  (None, 14, 14, 256)          0         ['conv4_block5_2_bn[0][0]']   \n",
      " ation)                                                                                           \n",
      "                                                                                                  \n",
      " conv4_block5_3_conv (Conv2  (None, 14, 14, 1024)         263168    ['conv4_block5_2_relu[0][0]'] \n",
      " D)                                                                                               \n",
      "                                                                                                  \n",
      " conv4_block5_3_bn (BatchNo  (None, 14, 14, 1024)         4096      ['conv4_block5_3_conv[0][0]'] \n",
      " rmalization)                                                                                     \n",
      "                                                                                                  \n",
      " conv4_block5_add (Add)      (None, 14, 14, 1024)         0         ['conv4_block4_out[0][0]',    \n",
      "                                                                     'conv4_block5_3_bn[0][0]']   \n",
      "                                                                                                  \n",
      " conv4_block5_out (Activati  (None, 14, 14, 1024)         0         ['conv4_block5_add[0][0]']    \n",
      " on)                                                                                              \n",
      "                                                                                                  \n",
      " conv4_block6_1_conv (Conv2  (None, 14, 14, 256)          262400    ['conv4_block5_out[0][0]']    \n",
      " D)                                                                                               \n",
      "                                                                                                  \n",
      " conv4_block6_1_bn (BatchNo  (None, 14, 14, 256)          1024      ['conv4_block6_1_conv[0][0]'] \n",
      " rmalization)                                                                                     \n",
      "                                                                                                  \n",
      " conv4_block6_1_relu (Activ  (None, 14, 14, 256)          0         ['conv4_block6_1_bn[0][0]']   \n",
      " ation)                                                                                           \n",
      "                                                                                                  \n",
      " conv4_block6_2_conv (Conv2  (None, 14, 14, 256)          590080    ['conv4_block6_1_relu[0][0]'] \n",
      " D)                                                                                               \n",
      "                                                                                                  \n",
      " conv4_block6_2_bn (BatchNo  (None, 14, 14, 256)          1024      ['conv4_block6_2_conv[0][0]'] \n",
      " rmalization)                                                                                     \n",
      "                                                                                                  \n",
      " conv4_block6_2_relu (Activ  (None, 14, 14, 256)          0         ['conv4_block6_2_bn[0][0]']   \n",
      " ation)                                                                                           \n",
      "                                                                                                  \n",
      " conv4_block6_3_conv (Conv2  (None, 14, 14, 1024)         263168    ['conv4_block6_2_relu[0][0]'] \n"
     ]
    },
    {
     "name": "stdout",
     "output_type": "stream",
     "text": [
      " D)                                                                                               \n",
      "                                                                                                  \n",
      " conv4_block6_3_bn (BatchNo  (None, 14, 14, 1024)         4096      ['conv4_block6_3_conv[0][0]'] \n",
      " rmalization)                                                                                     \n",
      "                                                                                                  \n",
      " conv4_block6_add (Add)      (None, 14, 14, 1024)         0         ['conv4_block5_out[0][0]',    \n",
      "                                                                     'conv4_block6_3_bn[0][0]']   \n",
      "                                                                                                  \n",
      " conv4_block6_out (Activati  (None, 14, 14, 1024)         0         ['conv4_block6_add[0][0]']    \n",
      " on)                                                                                              \n",
      "                                                                                                  \n",
      " conv5_block1_1_conv (Conv2  (None, 7, 7, 512)            524800    ['conv4_block6_out[0][0]']    \n",
      " D)                                                                                               \n",
      "                                                                                                  \n",
      " conv5_block1_1_bn (BatchNo  (None, 7, 7, 512)            2048      ['conv5_block1_1_conv[0][0]'] \n",
      " rmalization)                                                                                     \n",
      "                                                                                                  \n",
      " conv5_block1_1_relu (Activ  (None, 7, 7, 512)            0         ['conv5_block1_1_bn[0][0]']   \n",
      " ation)                                                                                           \n",
      "                                                                                                  \n",
      " conv5_block1_2_conv (Conv2  (None, 7, 7, 512)            2359808   ['conv5_block1_1_relu[0][0]'] \n",
      " D)                                                                                               \n",
      "                                                                                                  \n",
      " conv5_block1_2_bn (BatchNo  (None, 7, 7, 512)            2048      ['conv5_block1_2_conv[0][0]'] \n",
      " rmalization)                                                                                     \n",
      "                                                                                                  \n",
      " conv5_block1_2_relu (Activ  (None, 7, 7, 512)            0         ['conv5_block1_2_bn[0][0]']   \n",
      " ation)                                                                                           \n",
      "                                                                                                  \n",
      " conv5_block1_0_conv (Conv2  (None, 7, 7, 2048)           2099200   ['conv4_block6_out[0][0]']    \n",
      " D)                                                                                               \n",
      "                                                                                                  \n",
      " conv5_block1_3_conv (Conv2  (None, 7, 7, 2048)           1050624   ['conv5_block1_2_relu[0][0]'] \n",
      " D)                                                                                               \n",
      "                                                                                                  \n",
      " conv5_block1_0_bn (BatchNo  (None, 7, 7, 2048)           8192      ['conv5_block1_0_conv[0][0]'] \n",
      " rmalization)                                                                                     \n",
      "                                                                                                  \n",
      " conv5_block1_3_bn (BatchNo  (None, 7, 7, 2048)           8192      ['conv5_block1_3_conv[0][0]'] \n",
      " rmalization)                                                                                     \n",
      "                                                                                                  \n",
      " conv5_block1_add (Add)      (None, 7, 7, 2048)           0         ['conv5_block1_0_bn[0][0]',   \n",
      "                                                                     'conv5_block1_3_bn[0][0]']   \n",
      "                                                                                                  \n",
      " conv5_block1_out (Activati  (None, 7, 7, 2048)           0         ['conv5_block1_add[0][0]']    \n",
      " on)                                                                                              \n",
      "                                                                                                  \n",
      " conv5_block2_1_conv (Conv2  (None, 7, 7, 512)            1049088   ['conv5_block1_out[0][0]']    \n",
      " D)                                                                                               \n",
      "                                                                                                  \n",
      " conv5_block2_1_bn (BatchNo  (None, 7, 7, 512)            2048      ['conv5_block2_1_conv[0][0]'] \n",
      " rmalization)                                                                                     \n",
      "                                                                                                  \n",
      " conv5_block2_1_relu (Activ  (None, 7, 7, 512)            0         ['conv5_block2_1_bn[0][0]']   \n",
      " ation)                                                                                           \n",
      "                                                                                                  \n",
      " conv5_block2_2_conv (Conv2  (None, 7, 7, 512)            2359808   ['conv5_block2_1_relu[0][0]'] \n",
      " D)                                                                                               \n",
      "                                                                                                  \n",
      " conv5_block2_2_bn (BatchNo  (None, 7, 7, 512)            2048      ['conv5_block2_2_conv[0][0]'] \n",
      " rmalization)                                                                                     \n",
      "                                                                                                  \n",
      " conv5_block2_2_relu (Activ  (None, 7, 7, 512)            0         ['conv5_block2_2_bn[0][0]']   \n",
      " ation)                                                                                           \n",
      "                                                                                                  \n",
      " conv5_block2_3_conv (Conv2  (None, 7, 7, 2048)           1050624   ['conv5_block2_2_relu[0][0]'] \n",
      " D)                                                                                               \n",
      "                                                                                                  \n",
      " conv5_block2_3_bn (BatchNo  (None, 7, 7, 2048)           8192      ['conv5_block2_3_conv[0][0]'] \n",
      " rmalization)                                                                                     \n",
      "                                                                                                  \n",
      " conv5_block2_add (Add)      (None, 7, 7, 2048)           0         ['conv5_block1_out[0][0]',    \n",
      "                                                                     'conv5_block2_3_bn[0][0]']   \n",
      "                                                                                                  \n",
      " conv5_block2_out (Activati  (None, 7, 7, 2048)           0         ['conv5_block2_add[0][0]']    \n",
      " on)                                                                                              \n",
      "                                                                                                  \n",
      " conv5_block3_1_conv (Conv2  (None, 7, 7, 512)            1049088   ['conv5_block2_out[0][0]']    \n",
      " D)                                                                                               \n",
      "                                                                                                  \n",
      " conv5_block3_1_bn (BatchNo  (None, 7, 7, 512)            2048      ['conv5_block3_1_conv[0][0]'] \n",
      " rmalization)                                                                                     \n",
      "                                                                                                  \n"
     ]
    },
    {
     "name": "stdout",
     "output_type": "stream",
     "text": [
      " conv5_block3_1_relu (Activ  (None, 7, 7, 512)            0         ['conv5_block3_1_bn[0][0]']   \n",
      " ation)                                                                                           \n",
      "                                                                                                  \n",
      " conv5_block3_2_conv (Conv2  (None, 7, 7, 512)            2359808   ['conv5_block3_1_relu[0][0]'] \n",
      " D)                                                                                               \n",
      "                                                                                                  \n",
      " conv5_block3_2_bn (BatchNo  (None, 7, 7, 512)            2048      ['conv5_block3_2_conv[0][0]'] \n",
      " rmalization)                                                                                     \n",
      "                                                                                                  \n",
      " conv5_block3_2_relu (Activ  (None, 7, 7, 512)            0         ['conv5_block3_2_bn[0][0]']   \n",
      " ation)                                                                                           \n",
      "                                                                                                  \n",
      " conv5_block3_3_conv (Conv2  (None, 7, 7, 2048)           1050624   ['conv5_block3_2_relu[0][0]'] \n",
      " D)                                                                                               \n",
      "                                                                                                  \n",
      " conv5_block3_3_bn (BatchNo  (None, 7, 7, 2048)           8192      ['conv5_block3_3_conv[0][0]'] \n",
      " rmalization)                                                                                     \n",
      "                                                                                                  \n",
      " conv5_block3_add (Add)      (None, 7, 7, 2048)           0         ['conv5_block2_out[0][0]',    \n",
      "                                                                     'conv5_block3_3_bn[0][0]']   \n",
      "                                                                                                  \n",
      " conv5_block3_out (Activati  (None, 7, 7, 2048)           0         ['conv5_block3_add[0][0]']    \n",
      " on)                                                                                              \n",
      "                                                                                                  \n",
      " flatten (Flatten)           (None, 100352)               0         ['conv5_block3_out[0][0]']    \n",
      "                                                                                                  \n",
      " dense (Dense)               (None, 3)                    301059    ['flatten[0][0]']             \n",
      "                                                                                                  \n",
      "==================================================================================================\n",
      "Total params: 23888771 (91.13 MB)\n",
      "Trainable params: 301059 (1.15 MB)\n",
      "Non-trainable params: 23587712 (89.98 MB)\n",
      "__________________________________________________________________________________________________\n"
     ]
    }
   ],
   "source": [
    "model.summary()"
   ]
  },
  {
   "cell_type": "code",
   "execution_count": 11,
   "id": "b379ba90",
   "metadata": {},
   "outputs": [],
   "source": [
    "model.compile(\n",
    "  loss='categorical_crossentropy',\n",
    "  optimizer='adam',\n",
    "  metrics=['accuracy']\n",
    ")"
   ]
  },
  {
   "cell_type": "code",
   "execution_count": 12,
   "id": "882e98a5",
   "metadata": {},
   "outputs": [],
   "source": [
    "from keras.preprocessing.image import ImageDataGenerator\n",
    "\n",
    "train_datagen = ImageDataGenerator(rescale = 1./255,\n",
    "                                   shear_range = 0.2,\n",
    "                                   zoom_range = 0.2,\n",
    "                                   horizontal_flip = True)\n",
    "\n",
    "test_datagen = ImageDataGenerator(rescale = 1./255)"
   ]
  },
  {
   "cell_type": "code",
   "execution_count": 13,
   "id": "a909b0a4",
   "metadata": {},
   "outputs": [
    {
     "name": "stdout",
     "output_type": "stream",
     "text": [
      "Found 64 images belonging to 3 classes.\n"
     ]
    }
   ],
   "source": [
    "training_set = train_datagen.flow_from_directory('Datasets/train',\n",
    "                                                 target_size = (224, 224),\n",
    "                                                 batch_size = 32,\n",
    "                                                 class_mode = 'categorical')"
   ]
  },
  {
   "cell_type": "code",
   "execution_count": 14,
   "id": "787fed9e",
   "metadata": {},
   "outputs": [
    {
     "name": "stdout",
     "output_type": "stream",
     "text": [
      "Found 58 images belonging to 3 classes.\n"
     ]
    }
   ],
   "source": [
    "test_set = test_datagen.flow_from_directory('Datasets/test',\n",
    "                                            target_size = (224, 224),\n",
    "                                            batch_size = 32,\n",
    "                                            class_mode = 'categorical')"
   ]
  },
  {
   "cell_type": "code",
   "execution_count": 15,
   "id": "ce85e4e4",
   "metadata": {},
   "outputs": [
    {
     "name": "stderr",
     "output_type": "stream",
     "text": [
      "C:\\Users\\HP\\AppData\\Local\\Temp\\ipykernel_6932\\1167563505.py:1: UserWarning: `Model.fit_generator` is deprecated and will be removed in a future version. Please use `Model.fit`, which supports generators.\n",
      "  r = model.fit_generator(\n"
     ]
    },
    {
     "name": "stdout",
     "output_type": "stream",
     "text": [
      "Epoch 1/50\n",
      "2/2 [==============================] - 15s 8s/step - loss: 3.8083 - accuracy: 0.3438 - val_loss: 10.6550 - val_accuracy: 0.3276\n",
      "Epoch 2/50\n",
      "2/2 [==============================] - 7s 5s/step - loss: 10.7795 - accuracy: 0.3906 - val_loss: 6.3986 - val_accuracy: 0.5172\n",
      "Epoch 3/50\n",
      "2/2 [==============================] - 7s 5s/step - loss: 8.3863 - accuracy: 0.3125 - val_loss: 5.0941 - val_accuracy: 0.1552\n",
      "Epoch 4/50\n",
      "2/2 [==============================] - 7s 5s/step - loss: 4.9273 - accuracy: 0.3281 - val_loss: 5.3075 - val_accuracy: 0.1552\n",
      "Epoch 5/50\n",
      "2/2 [==============================] - 7s 5s/step - loss: 2.9238 - accuracy: 0.4531 - val_loss: 4.2238 - val_accuracy: 0.3276\n",
      "Epoch 6/50\n",
      "2/2 [==============================] - 7s 5s/step - loss: 2.7613 - accuracy: 0.3906 - val_loss: 1.8215 - val_accuracy: 0.5690\n",
      "Epoch 7/50\n",
      "2/2 [==============================] - 7s 5s/step - loss: 2.3010 - accuracy: 0.4531 - val_loss: 2.1397 - val_accuracy: 0.5690\n",
      "Epoch 8/50\n",
      "2/2 [==============================] - 7s 5s/step - loss: 2.1494 - accuracy: 0.5000 - val_loss: 2.9617 - val_accuracy: 0.1724\n",
      "Epoch 9/50\n",
      "2/2 [==============================] - 7s 5s/step - loss: 1.6031 - accuracy: 0.4531 - val_loss: 2.1314 - val_accuracy: 0.3276\n",
      "Epoch 10/50\n",
      "2/2 [==============================] - 7s 5s/step - loss: 1.5279 - accuracy: 0.4531 - val_loss: 1.5127 - val_accuracy: 0.5345\n",
      "Epoch 11/50\n",
      "2/2 [==============================] - 7s 5s/step - loss: 1.8501 - accuracy: 0.5469 - val_loss: 1.5450 - val_accuracy: 0.6207\n",
      "Epoch 12/50\n",
      "2/2 [==============================] - 7s 5s/step - loss: 1.0177 - accuracy: 0.6094 - val_loss: 2.0626 - val_accuracy: 0.1897\n",
      "Epoch 13/50\n",
      "2/2 [==============================] - 7s 5s/step - loss: 1.3681 - accuracy: 0.5469 - val_loss: 2.7790 - val_accuracy: 0.3621\n",
      "Epoch 14/50\n",
      "2/2 [==============================] - 7s 5s/step - loss: 1.3087 - accuracy: 0.5938 - val_loss: 1.2370 - val_accuracy: 0.5172\n",
      "Epoch 15/50\n",
      "2/2 [==============================] - 7s 5s/step - loss: 0.6631 - accuracy: 0.6875 - val_loss: 1.4197 - val_accuracy: 0.6552\n",
      "Epoch 16/50\n",
      "2/2 [==============================] - 7s 5s/step - loss: 1.1142 - accuracy: 0.6094 - val_loss: 1.0128 - val_accuracy: 0.5862\n",
      "Epoch 17/50\n",
      "2/2 [==============================] - 7s 5s/step - loss: 0.6914 - accuracy: 0.7031 - val_loss: 1.7587 - val_accuracy: 0.4310\n",
      "Epoch 18/50\n",
      "2/2 [==============================] - 7s 5s/step - loss: 0.7760 - accuracy: 0.6875 - val_loss: 1.2501 - val_accuracy: 0.5517\n",
      "Epoch 19/50\n",
      "2/2 [==============================] - 7s 5s/step - loss: 0.6127 - accuracy: 0.7188 - val_loss: 1.0304 - val_accuracy: 0.6379\n",
      "Epoch 20/50\n",
      "2/2 [==============================] - 7s 5s/step - loss: 0.6374 - accuracy: 0.7188 - val_loss: 0.9299 - val_accuracy: 0.6034\n",
      "Epoch 21/50\n",
      "2/2 [==============================] - 7s 5s/step - loss: 0.4924 - accuracy: 0.8125 - val_loss: 1.3983 - val_accuracy: 0.5000\n",
      "Epoch 22/50\n",
      "2/2 [==============================] - 7s 5s/step - loss: 0.5439 - accuracy: 0.7656 - val_loss: 0.9766 - val_accuracy: 0.6207\n",
      "Epoch 23/50\n",
      "2/2 [==============================] - 7s 5s/step - loss: 0.3492 - accuracy: 0.8594 - val_loss: 0.9120 - val_accuracy: 0.6552\n",
      "Epoch 24/50\n",
      "2/2 [==============================] - 7s 5s/step - loss: 0.4284 - accuracy: 0.8281 - val_loss: 0.8980 - val_accuracy: 0.6724\n",
      "Epoch 25/50\n",
      "2/2 [==============================] - 7s 5s/step - loss: 0.3451 - accuracy: 0.8750 - val_loss: 0.9908 - val_accuracy: 0.7069\n",
      "Epoch 26/50\n",
      "2/2 [==============================] - 7s 5s/step - loss: 0.4049 - accuracy: 0.8594 - val_loss: 0.8730 - val_accuracy: 0.6552\n",
      "Epoch 27/50\n",
      "2/2 [==============================] - 7s 5s/step - loss: 0.3553 - accuracy: 0.8750 - val_loss: 0.8730 - val_accuracy: 0.6724\n",
      "Epoch 28/50\n",
      "2/2 [==============================] - 7s 5s/step - loss: 0.3562 - accuracy: 0.8438 - val_loss: 0.9319 - val_accuracy: 0.6724\n",
      "Epoch 29/50\n",
      "2/2 [==============================] - 7s 5s/step - loss: 0.3312 - accuracy: 0.8750 - val_loss: 0.9329 - val_accuracy: 0.6724\n",
      "Epoch 30/50\n",
      "2/2 [==============================] - 7s 5s/step - loss: 0.3246 - accuracy: 0.9062 - val_loss: 0.8645 - val_accuracy: 0.7069\n",
      "Epoch 31/50\n",
      "2/2 [==============================] - 7s 5s/step - loss: 0.3097 - accuracy: 0.8906 - val_loss: 0.8801 - val_accuracy: 0.6552\n",
      "Epoch 32/50\n",
      "2/2 [==============================] - 7s 5s/step - loss: 0.2770 - accuracy: 0.9062 - val_loss: 0.8285 - val_accuracy: 0.6724\n",
      "Epoch 33/50\n",
      "2/2 [==============================] - 7s 5s/step - loss: 0.3021 - accuracy: 0.8906 - val_loss: 0.8353 - val_accuracy: 0.7241\n",
      "Epoch 34/50\n",
      "2/2 [==============================] - 7s 5s/step - loss: 0.3048 - accuracy: 0.8906 - val_loss: 0.9136 - val_accuracy: 0.6552\n",
      "Epoch 35/50\n",
      "2/2 [==============================] - 7s 5s/step - loss: 0.3031 - accuracy: 0.9219 - val_loss: 0.8234 - val_accuracy: 0.7414\n",
      "Epoch 36/50\n",
      "2/2 [==============================] - 7s 5s/step - loss: 0.2683 - accuracy: 0.9219 - val_loss: 0.8380 - val_accuracy: 0.7414\n",
      "Epoch 37/50\n",
      "2/2 [==============================] - 7s 5s/step - loss: 0.2584 - accuracy: 0.9375 - val_loss: 0.9310 - val_accuracy: 0.6207\n",
      "Epoch 38/50\n",
      "2/2 [==============================] - 7s 5s/step - loss: 0.2758 - accuracy: 0.8906 - val_loss: 0.8337 - val_accuracy: 0.7586\n",
      "Epoch 39/50\n",
      "2/2 [==============================] - 7s 5s/step - loss: 0.2711 - accuracy: 0.9531 - val_loss: 0.8497 - val_accuracy: 0.7414\n",
      "Epoch 40/50\n",
      "2/2 [==============================] - 7s 5s/step - loss: 0.2359 - accuracy: 0.9531 - val_loss: 0.8527 - val_accuracy: 0.7414\n",
      "Epoch 41/50\n",
      "2/2 [==============================] - 7s 5s/step - loss: 0.2451 - accuracy: 0.9531 - val_loss: 0.8778 - val_accuracy: 0.6724\n",
      "Epoch 42/50\n",
      "2/2 [==============================] - 7s 5s/step - loss: 0.2528 - accuracy: 0.9688 - val_loss: 0.8404 - val_accuracy: 0.7241\n",
      "Epoch 43/50\n",
      "2/2 [==============================] - 7s 5s/step - loss: 0.2745 - accuracy: 0.9375 - val_loss: 0.8279 - val_accuracy: 0.7586\n",
      "Epoch 44/50\n",
      "2/2 [==============================] - 7s 5s/step - loss: 0.2508 - accuracy: 0.9062 - val_loss: 0.8960 - val_accuracy: 0.6724\n",
      "Epoch 45/50\n",
      "2/2 [==============================] - 7s 5s/step - loss: 0.2894 - accuracy: 0.9062 - val_loss: 0.8688 - val_accuracy: 0.7069\n",
      "Epoch 46/50\n",
      "2/2 [==============================] - 7s 5s/step - loss: 0.2339 - accuracy: 0.9375 - val_loss: 0.8450 - val_accuracy: 0.7241\n",
      "Epoch 47/50\n",
      "2/2 [==============================] - 7s 5s/step - loss: 0.2539 - accuracy: 0.9062 - val_loss: 0.8484 - val_accuracy: 0.7586\n",
      "Epoch 48/50\n",
      "2/2 [==============================] - 7s 5s/step - loss: 0.2507 - accuracy: 0.9375 - val_loss: 0.9639 - val_accuracy: 0.6379\n",
      "Epoch 49/50\n",
      "2/2 [==============================] - 7s 5s/step - loss: 0.2722 - accuracy: 0.9219 - val_loss: 0.8444 - val_accuracy: 0.7414\n",
      "Epoch 50/50\n",
      "2/2 [==============================] - 7s 5s/step - loss: 0.2512 - accuracy: 0.9219 - val_loss: 0.8311 - val_accuracy: 0.7759\n"
     ]
    }
   ],
   "source": [
    "r = model.fit_generator(\n",
    "  training_set,\n",
    "  validation_data=test_set,\n",
    "  epochs=50,\n",
    "  steps_per_epoch=len(training_set),\n",
    "  validation_steps=len(test_set)\n",
    ")"
   ]
  },
  {
   "cell_type": "code",
   "execution_count": 16,
   "id": "f558a943",
   "metadata": {},
   "outputs": [
    {
     "data": {
      "image/png": "[encoded data removed]",
      "text/plain": [
       "<Figure size 640x480 with 1 Axes>"
      ]
     },
     "metadata": {},
     "output_type": "display_data"
    },
    {
     "data": {
      "text/plain": [
       "<Figure size 640x480 with 0 Axes>"
      ]
     },
     "metadata": {},
     "output_type": "display_data"
    }
   ],
   "source": [
    "plt.plot(r.history['loss'], label='train loss')\n",
    "plt.plot(r.history['val_loss'], label='val loss')\n",
    "plt.legend()\n",
    "plt.show()\n",
    "plt.savefig('LossVal_loss')"
   ]
  },
  {
   "cell_type": "code",
   "execution_count": 17,
   "id": "83721c9f",
   "metadata": {},
   "outputs": [
    {
     "data": {
      "image/png": "[encoded data removed]",
      "text/plain": [
       "<Figure size 640x480 with 1 Axes>"
      ]
     },
     "metadata": {},
     "output_type": "display_data"
    },
    {
     "data": {
      "text/plain": [
       "<Figure size 640x480 with 0 Axes>"
      ]
     },
     "metadata": {},
     "output_type": "display_data"
    }
   ],
   "source": [
    "plt.plot(r.history['accuracy'], label='train acc')\n",
    "plt.plot(r.history['val_accuracy'], label='val acc')\n",
    "plt.legend()\n",
    "plt.show()\n",
    "plt.savefig('AccVal_acc')"
   ]
  },
  {
   "cell_type": "code",
   "execution_count": 18,
   "id": "62dbd94f",
   "metadata": {},
   "outputs": [],
   "source": [
    "model.save('model_resnet50.keras')"
   ]
  },
  {
   "cell_type": "code",
   "execution_count": 19,
   "id": "746b3614",
   "metadata": {},
   "outputs": [
    {
     "name": "stdout",
     "output_type": "stream",
     "text": [
      "2/2 [==============================] - 5s 1s/step\n"
     ]
    }
   ],
   "source": [
    "y_pred = model.predict(test_set)"
   ]
  },
  {
   "cell_type": "code",
   "execution_count": 20,
   "id": "ebfcaf97",
   "metadata": {},
   "outputs": [
    {
     "data": {
      "text/plain": [
       "array([[4.86772656e-02, 4.70976949e-01, 4.80345845e-01],\n",
       "       [6.56055748e-01, 3.36831748e-01, 7.11253332e-03],\n",
       "       [1.70490785e-05, 1.29570882e-03, 9.98687208e-01],\n",
       "       [6.65683970e-02, 9.06961262e-01, 2.64703929e-02],\n",
       "       [1.38025843e-02, 9.41137850e-01, 4.50595617e-02],\n",
       "       [5.55808516e-03, 9.79265213e-01, 1.51767200e-02],\n",
       "       [5.90483807e-02, 4.28583384e-01, 5.12368262e-01],\n",
       "       [4.36910465e-02, 3.49524200e-01, 6.06784821e-01],\n",
       "       [1.98769227e-01, 4.94569808e-01, 3.06661010e-01],\n",
       "       [1.33372527e-02, 9.13855016e-01, 7.28076398e-02],\n",
       "       [8.66476726e-03, 4.04823162e-02, 9.50852931e-01],\n",
       "       [7.27140382e-02, 4.72051173e-01, 4.55234826e-01],\n",
       "       [1.59716129e-01, 3.21456999e-01, 5.18826842e-01],\n",
       "       [2.30784882e-02, 8.25596787e-03, 9.68665600e-01],\n",
       "       [8.33159149e-01, 1.04827315e-01, 6.20135479e-02],\n",
       "       [2.88068593e-01, 3.34588230e-01, 3.77343208e-01],\n",
       "       [2.48303823e-02, 2.52542943e-01, 7.22626746e-01],\n",
       "       [5.20782888e-01, 2.34508350e-01, 2.44708806e-01],\n",
       "       [9.13888067e-02, 4.10853148e-01, 4.97758061e-01],\n",
       "       [4.82409224e-02, 6.10760331e-01, 3.40998799e-01],\n",
       "       [2.38605831e-02, 8.20506454e-01, 1.55632988e-01],\n",
       "       [3.20971049e-02, 5.81609130e-01, 3.86293709e-01],\n",
       "       [5.48422001e-02, 8.17488968e-01, 1.27668783e-01],\n",
       "       [2.51325257e-02, 3.92245967e-03, 9.70945060e-01],\n",
       "       [1.02174543e-01, 2.07053088e-02, 8.77120197e-01],\n",
       "       [1.03097949e-02, 6.44280195e-01, 3.45409989e-01],\n",
       "       [1.22051314e-01, 6.65319324e-01, 2.12629363e-01],\n",
       "       [5.26311472e-02, 7.14152277e-01, 2.33216688e-01],\n",
       "       [7.46018777e-04, 9.96467233e-01, 2.78673158e-03],\n",
       "       [3.85027230e-02, 7.12312996e-01, 2.49184340e-01],\n",
       "       [8.62615049e-01, 9.28355977e-02, 4.45493795e-02],\n",
       "       [9.54526603e-01, 2.76027359e-02, 1.78707317e-02],\n",
       "       [4.17185761e-02, 2.57092655e-01, 7.01188803e-01],\n",
       "       [5.75177856e-02, 1.20642215e-01, 8.21839988e-01],\n",
       "       [6.37290580e-03, 9.38060820e-01, 5.55662066e-02],\n",
       "       [2.02115364e-02, 7.83005834e-01, 1.96782604e-01],\n",
       "       [3.51175740e-02, 6.45880580e-01, 3.19001883e-01],\n",
       "       [3.54639947e-01, 8.66045356e-02, 5.58755517e-01],\n",
       "       [2.02066684e-03, 9.55370724e-01, 4.26085927e-02],\n",
       "       [2.98988434e-05, 3.36740748e-04, 9.99633312e-01],\n",
       "       [5.80307364e-01, 3.41089159e-01, 7.86034241e-02],\n",
       "       [1.14271929e-02, 4.26353574e-01, 5.62219203e-01],\n",
       "       [4.09621447e-01, 3.74873787e-01, 2.15504840e-01],\n",
       "       [1.92680862e-02, 9.37305927e-01, 4.34258990e-02],\n",
       "       [2.34515890e-02, 9.16895866e-01, 5.96524850e-02],\n",
       "       [3.62730063e-02, 5.48882306e-01, 4.14844722e-01],\n",
       "       [7.44262859e-02, 5.17883105e-03, 9.20394897e-01],\n",
       "       [4.66215909e-02, 1.34138353e-02, 9.39964592e-01],\n",
       "       [6.90172493e-01, 1.48662338e-02, 2.94961214e-01],\n",
       "       [5.98758310e-02, 4.89094178e-04, 9.39635038e-01],\n",
       "       [1.67894274e-01, 6.28681660e-01, 2.03424081e-01],\n",
       "       [1.04062110e-02, 9.87541258e-01, 2.05254089e-03],\n",
       "       [1.45359620e-01, 7.01181531e-01, 1.53458789e-01],\n",
       "       [1.40280530e-01, 1.37606367e-01, 7.22113013e-01],\n",
       "       [1.86893402e-03, 7.56095171e-01, 2.42035940e-01],\n",
       "       [7.62546784e-04, 9.89587665e-01, 9.64979175e-03],\n",
       "       [8.86563212e-03, 9.65202332e-01, 2.59320643e-02],\n",
       "       [2.46978268e-01, 7.16463029e-01, 3.65586244e-02]], dtype=float32)"
      ]
     },
     "execution_count": 20,
     "metadata": {},
     "output_type": "execute_result"
    }
   ],
   "source": [
    "y_pred"
   ]
  },
  {
   "cell_type": "code",
   "execution_count": 21,
   "id": "29d32558",
   "metadata": {},
   "outputs": [],
   "source": [
    "y_pred = np.argmax(y_pred, axis=1)"
   ]
  },
  {
   "cell_type": "code",
   "execution_count": 22,
   "id": "4858b37c",
   "metadata": {},
   "outputs": [
    {
     "data": {
      "text/plain": [
       "array([2, 0, 2, 1, 1, 1, 2, 2, 1, 1, 2, 1, 2, 2, 0, 2, 2, 0, 2, 1, 1, 1,\n",
       "       1, 2, 2, 1, 1, 1, 1, 1, 0, 0, 2, 2, 1, 1, 1, 2, 1, 2, 0, 2, 0, 1,\n",
       "       1, 1, 2, 2, 0, 2, 1, 1, 1, 2, 1, 1, 1, 1], dtype=int64)"
      ]
     },
     "execution_count": 22,
     "metadata": {},
     "output_type": "execute_result"
    }
   ],
   "source": [
    "y_pred\n",
    "\n",
    "#0 for audi\n",
    "#1 for lamborghini\n",
    "#2 for mercedes"
   ]
  },
  {
   "cell_type": "code",
   "execution_count": 23,
   "id": "f4d6cac7",
   "metadata": {},
   "outputs": [],
   "source": [
    "from keras.models import load_model\n",
    "from keras.preprocessing import image"
   ]
  },
  {
   "cell_type": "code",
   "execution_count": 24,
   "id": "6c8138e5",
   "metadata": {},
   "outputs": [],
   "source": [
    "model=load_model('model_resnet50.keras')"
   ]
  },
  {
   "cell_type": "code",
   "execution_count": 25,
   "id": "3f3582ec",
   "metadata": {},
   "outputs": [],
   "source": [
    "img=image.load_img('Datasets/Test/mercedes/34.jpg',target_size=(224,224))"
   ]
  },
  {
   "cell_type": "code",
   "execution_count": 26,
   "id": "3aa8ae0b",
   "metadata": {},
   "outputs": [],
   "source": [
    "x=image.img_to_array(img)"
   ]
  },
  {
   "cell_type": "code",
   "execution_count": 27,
   "id": "aca40f30",
   "metadata": {},
   "outputs": [
    {
     "data": {
      "text/plain": [
       "array([[[  9.,   9.,   7.],\n",
       "        [  9.,   9.,   7.],\n",
       "        [  9.,   9.,   7.],\n",
       "        ...,\n",
       "        [113., 106., 100.],\n",
       "        [ 88.,  81.,  75.],\n",
       "        [161., 156., 153.]],\n",
       "\n",
       "       [[  9.,   9.,   7.],\n",
       "        [  9.,   9.,   7.],\n",
       "        [  9.,   9.,   7.],\n",
       "        ...,\n",
       "        [165., 158., 150.],\n",
       "        [126., 119., 113.],\n",
       "        [159., 154., 151.]],\n",
       "\n",
       "       [[  9.,   9.,   7.],\n",
       "        [  9.,   9.,   7.],\n",
       "        [  9.,   9.,   7.],\n",
       "        ...,\n",
       "        [165., 158., 150.],\n",
       "        [126., 119., 113.],\n",
       "        [159., 154., 151.]],\n",
       "\n",
       "       ...,\n",
       "\n",
       "       [[ 24.,  29.,   7.],\n",
       "        [ 26.,  31.,   8.],\n",
       "        [ 27.,  32.,   9.],\n",
       "        ...,\n",
       "        [ 31.,  35.,   8.],\n",
       "        [ 31.,  35.,   8.],\n",
       "        [ 30.,  34.,   7.]],\n",
       "\n",
       "       [[ 24.,  29.,   7.],\n",
       "        [ 26.,  31.,   8.],\n",
       "        [ 27.,  32.,   9.],\n",
       "        ...,\n",
       "        [ 31.,  35.,   8.],\n",
       "        [ 31.,  35.,   8.],\n",
       "        [ 30.,  34.,   7.]],\n",
       "\n",
       "       [[ 23.,  28.,   6.],\n",
       "        [ 25.,  30.,   7.],\n",
       "        [ 27.,  32.,   9.],\n",
       "        ...,\n",
       "        [ 31.,  35.,   8.],\n",
       "        [ 31.,  35.,   8.],\n",
       "        [ 30.,  34.,   7.]]], dtype=float32)"
      ]
     },
     "execution_count": 27,
     "metadata": {},
     "output_type": "execute_result"
    }
   ],
   "source": [
    "x"
   ]
  },
  {
   "cell_type": "code",
   "execution_count": 28,
   "id": "ab9e2fe4",
   "metadata": {},
   "outputs": [
    {
     "data": {
      "text/plain": [
       "(224, 224, 3)"
      ]
     },
     "execution_count": 28,
     "metadata": {},
     "output_type": "execute_result"
    }
   ],
   "source": [
    "x.shape"
   ]
  },
  {
   "cell_type": "code",
   "execution_count": 29,
   "id": "58209ca6",
   "metadata": {},
   "outputs": [
    {
     "data": {
      "text/plain": [
       "array([[[0.03529412, 0.03529412, 0.02745098],\n",
       "        [0.03529412, 0.03529412, 0.02745098],\n",
       "        [0.03529412, 0.03529412, 0.02745098],\n",
       "        ...,\n",
       "        [0.44313726, 0.41568628, 0.39215687],\n",
       "        [0.34509805, 0.31764707, 0.29411766],\n",
       "        [0.6313726 , 0.6117647 , 0.6       ]],\n",
       "\n",
       "       [[0.03529412, 0.03529412, 0.02745098],\n",
       "        [0.03529412, 0.03529412, 0.02745098],\n",
       "        [0.03529412, 0.03529412, 0.02745098],\n",
       "        ...,\n",
       "        [0.64705884, 0.61960787, 0.5882353 ],\n",
       "        [0.49411765, 0.46666667, 0.44313726],\n",
       "        [0.62352943, 0.6039216 , 0.5921569 ]],\n",
       "\n",
       "       [[0.03529412, 0.03529412, 0.02745098],\n",
       "        [0.03529412, 0.03529412, 0.02745098],\n",
       "        [0.03529412, 0.03529412, 0.02745098],\n",
       "        ...,\n",
       "        [0.64705884, 0.61960787, 0.5882353 ],\n",
       "        [0.49411765, 0.46666667, 0.44313726],\n",
       "        [0.62352943, 0.6039216 , 0.5921569 ]],\n",
       "\n",
       "       ...,\n",
       "\n",
       "       [[0.09411765, 0.11372549, 0.02745098],\n",
       "        [0.10196079, 0.12156863, 0.03137255],\n",
       "        [0.10588235, 0.1254902 , 0.03529412],\n",
       "        ...,\n",
       "        [0.12156863, 0.13725491, 0.03137255],\n",
       "        [0.12156863, 0.13725491, 0.03137255],\n",
       "        [0.11764706, 0.13333334, 0.02745098]],\n",
       "\n",
       "       [[0.09411765, 0.11372549, 0.02745098],\n",
       "        [0.10196079, 0.12156863, 0.03137255],\n",
       "        [0.10588235, 0.1254902 , 0.03529412],\n",
       "        ...,\n",
       "        [0.12156863, 0.13725491, 0.03137255],\n",
       "        [0.12156863, 0.13725491, 0.03137255],\n",
       "        [0.11764706, 0.13333334, 0.02745098]],\n",
       "\n",
       "       [[0.09019608, 0.10980392, 0.02352941],\n",
       "        [0.09803922, 0.11764706, 0.02745098],\n",
       "        [0.10588235, 0.1254902 , 0.03529412],\n",
       "        ...,\n",
       "        [0.12156863, 0.13725491, 0.03137255],\n",
       "        [0.12156863, 0.13725491, 0.03137255],\n",
       "        [0.11764706, 0.13333334, 0.02745098]]], dtype=float32)"
      ]
     },
     "execution_count": 29,
     "metadata": {},
     "output_type": "execute_result"
    }
   ],
   "source": [
    "x=x/255\n",
    "x"
   ]
  },
  {
   "cell_type": "code",
   "execution_count": 30,
   "id": "732c3301",
   "metadata": {},
   "outputs": [
    {
     "data": {
      "text/plain": [
       "(1, 224, 224, 3)"
      ]
     },
     "execution_count": 30,
     "metadata": {},
     "output_type": "execute_result"
    }
   ],
   "source": [
    "x=np.expand_dims(x,axis=0)\n",
    "img_data=preprocess_input(x)\n",
    "img_data.shape"
   ]
  },
  {
   "cell_type": "code",
   "execution_count": 31,
   "id": "0053de39",
   "metadata": {},
   "outputs": [
    {
     "name": "stdout",
     "output_type": "stream",
     "text": [
      "1/1 [==============================] - 1s 1s/step\n"
     ]
    },
    {
     "data": {
      "text/plain": [
       "array([[0.0105366 , 0.00622171, 0.9832417 ]], dtype=float32)"
      ]
     },
     "execution_count": 31,
     "metadata": {},
     "output_type": "execute_result"
    }
   ],
   "source": [
    "model.predict(img_data)"
   ]
  },
  {
   "cell_type": "code",
   "execution_count": 32,
   "id": "2c1b40ba",
   "metadata": {},
   "outputs": [
    {
     "name": "stdout",
     "output_type": "stream",
     "text": [
      "1/1 [==============================] - 0s 126ms/step\n"
     ]
    },
    {
     "data": {
      "text/plain": [
       "array([2], dtype=int64)"
      ]
     },
     "execution_count": 32,
     "metadata": {},
     "output_type": "execute_result"
    }
   ],
   "source": [
    "a=np.argmax(model.predict(img_data), axis=1)\n",
    "a"
   ]
  }
 ],
 "metadata": {
  "kernelspec": {
   "display_name": "Python 3 (ipykernel)",
   "language": "python",
   "name": "python3"
  },
  "language_info": {
   "codemirror_mode": {
    "name": "ipython",
    "version": 3
   },
   "file_extension": ".py",
   "mimetype": "text/x-python",
   "name": "python",
   "nbconvert_exporter": "python",
   "pygments_lexer": "ipython3",
   "version": "3.11.4"
  }
 },
 "nbformat": 4,
 "nbformat_minor": 5
}
